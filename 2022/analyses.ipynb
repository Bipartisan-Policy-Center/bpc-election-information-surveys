{
 "cells": [
  {
   "cell_type": "code",
   "execution_count": 7,
   "metadata": {},
   "outputs": [],
   "source": [
    "# go up a level to import mc_processor\n",
    "import sys\n",
    "sys.path.append('..')\n",
    "import mc_processor\n",
    "import visualizing\n",
    "\n",
    "import os\n",
    "import matplotlib.pyplot as plt\n",
    "import matplotlib.ticker as mtick\n",
    "import numpy as np\n",
    "import pandas as pd\n",
    "\n",
    "import importlib\n",
    "importlib.reload(mc_processor)\n",
    "importlib.reload(visualizing)\n",
    "\n",
    "%matplotlib inline\n",
    "%config InlineBackend.figure_format = 'svg'"
   ]
  },
  {
   "cell_type": "code",
   "execution_count": 8,
   "metadata": {},
   "outputs": [],
   "source": [
    "# read results files\n",
    "\n",
    "clarifier = \"field2/rvoter/\"\n",
    "# clarifier = \"\"\n",
    "\n",
    "codebook = pd.read_csv('raw/levels_codebook.csv', encoding='utf-8')\n",
    "data = pd.read_csv('raw/data.csv', encoding='utf-8')\n",
    "q_codebook = pd.read_csv('raw/question_codebook.csv', encoding='utf-8', index_col = 'qid')\n",
    "\n",
    "# q_codebook into dict\n",
    "q_codebook = q_codebook.to_dict().get('qidFull')"
   ]
  },
  {
   "cell_type": "code",
   "execution_count": 9,
   "metadata": {},
   "outputs": [
    {
     "name": "stdout",
     "output_type": "stream",
     "text": [
      "*Issue with BPC1: Cannot save file into a non-existent directory: 'processed'\n",
      "\n"
     ]
    },
    {
     "data": {
      "text/plain": [
       "None"
      ]
     },
     "metadata": {},
     "output_type": "display_data"
    },
    {
     "ename": "AttributeError",
     "evalue": "'NoneType' object has no attribute 'columns'",
     "output_type": "error",
     "traceback": [
      "\u001b[0;31m---------------------------------------------------------------------------\u001b[0m",
      "\u001b[0;31mAttributeError\u001b[0m                            Traceback (most recent call last)",
      "Cell \u001b[0;32mIn[9], line 6\u001b[0m\n\u001b[1;32m      2\u001b[0m demo \u001b[38;5;241m=\u001b[39m \u001b[38;5;28;01mNone\u001b[39;00m\n\u001b[1;32m      4\u001b[0m questions \u001b[38;5;241m=\u001b[39m [\u001b[38;5;124mf\u001b[39m\u001b[38;5;124m\"\u001b[39m\u001b[38;5;124mBPC\u001b[39m\u001b[38;5;132;01m{\u001b[39;00mi\u001b[38;5;132;01m}\u001b[39;00m\u001b[38;5;124m\"\u001b[39m \u001b[38;5;28;01mfor\u001b[39;00m i \u001b[38;5;129;01min\u001b[39;00m \u001b[38;5;28mrange\u001b[39m(\u001b[38;5;241m1\u001b[39m,\u001b[38;5;241m6\u001b[39m,\u001b[38;5;241m2\u001b[39m)]\n\u001b[0;32m----> 6\u001b[0m df \u001b[38;5;241m=\u001b[39m \u001b[43mmc_processor\u001b[49m\u001b[38;5;241;43m.\u001b[39;49m\u001b[43mget_parallel_questions\u001b[49m\u001b[43m(\u001b[49m\u001b[43mdata\u001b[49m\u001b[43m,\u001b[49m\u001b[43m \u001b[49m\u001b[43mcodebook\u001b[49m\u001b[43m,\u001b[49m\u001b[43m \u001b[49m\u001b[43mq_codebook\u001b[49m\u001b[43m,\u001b[49m\u001b[43m \u001b[49m\u001b[43mquestions\u001b[49m\u001b[43m,\u001b[49m\u001b[43m \u001b[49m\u001b[43mdemo\u001b[49m\u001b[38;5;241;43m=\u001b[39;49m\u001b[38;5;28;43;01mNone\u001b[39;49;00m\u001b[43m)\u001b[49m\n\u001b[1;32m      7\u001b[0m display(df\u001b[38;5;241m.\u001b[39mmap(\u001b[38;5;28;01mlambda\u001b[39;00m x: \u001b[38;5;124mf\u001b[39m\u001b[38;5;124m\"\u001b[39m\u001b[38;5;132;01m{\u001b[39;00mx\u001b[38;5;132;01m:\u001b[39;00m\u001b[38;5;124m.1%\u001b[39m\u001b[38;5;132;01m}\u001b[39;00m\u001b[38;5;124m\"\u001b[39m))\n\u001b[1;32m      8\u001b[0m ax \u001b[38;5;241m=\u001b[39m visualizing\u001b[38;5;241m.\u001b[39mplot_question(df, \u001b[38;5;124m'\u001b[39m\u001b[38;5;124mBPC 1, 3, 5\u001b[39m\u001b[38;5;124m'\u001b[39m, \u001b[38;5;124m'\u001b[39m\u001b[38;5;124mWhere would you look for ___ info?\u001b[39m\u001b[38;5;124m'\u001b[39m)\n",
      "File \u001b[0;32m/workspaces/bpc-election-information-surveys/2022/../mc_processor.py:184\u001b[0m, in \u001b[0;36mget_parallel_questions\u001b[0;34m(data, codebook, q_codebook, questions, demo)\u001b[0m\n\u001b[1;32m    182\u001b[0m     df \u001b[38;5;241m=\u001b[39m run_and_display(data,codebook,q_codebook,question,demo,suppress_output\u001b[38;5;241m=\u001b[39m\u001b[38;5;28;01mTrue\u001b[39;00m)\n\u001b[1;32m    183\u001b[0m     display(df)\n\u001b[0;32m--> 184\u001b[0m     \u001b[43mdf\u001b[49m\u001b[38;5;241;43m.\u001b[39;49m\u001b[43mcolumns\u001b[49m \u001b[38;5;241m=\u001b[39m [question_text]\n\u001b[1;32m    185\u001b[0m     dfs\u001b[38;5;241m.\u001b[39mappend(df)\n\u001b[1;32m    187\u001b[0m df \u001b[38;5;241m=\u001b[39m pd\u001b[38;5;241m.\u001b[39mconcat(dfs, axis\u001b[38;5;241m=\u001b[39m\u001b[38;5;241m1\u001b[39m)\n",
      "\u001b[0;31mAttributeError\u001b[0m: 'NoneType' object has no attribute 'columns'"
     ]
    }
   ],
   "source": [
    "# 1, 3, 5\n",
    "demo = None\n",
    "\n",
    "questions = [f\"BPC{i}\" for i in range(1,6,2)]\n",
    "\n",
    "df = mc_processor.get_parallel_questions(data, codebook, q_codebook, questions, demo=None)\n",
    "display(df.map(lambda x: f\"{x:.1%}\"))\n",
    "ax = visualizing.plot_question(df, 'BPC 1, 3, 5', 'Where would you look for ___ info?')\n",
    "\n",
    "# for question in questions:\n",
    "#      df = mc_processor.run_and_display(data,codebook,q_codebook,question,demo,suppress_output=False)\n",
    "#      print(question,mc_processor.get_question_text(q_codebook,question))\n",
    "#      display(df.map(lambda x: f\"{x:.1%}\"))\n",
    "\n",
    "df.to_csv('processed/source_questions.csv', index=True)"
   ]
  },
  {
   "cell_type": "code",
   "execution_count": 10,
   "metadata": {},
   "outputs": [
    {
     "name": "stdout",
     "output_type": "stream",
     "text": [
      "*Issue with BPC8: Cannot save file into a non-existent directory: 'processed'\n",
      "\n",
      "*Issue with BPC9: Cannot save file into a non-existent directory: 'processed'\n",
      "\n",
      "*Issue with BPC10: Cannot save file into a non-existent directory: 'processed'\n",
      "\n",
      "*Issue with BPC11: Cannot save file into a non-existent directory: 'processed'\n",
      "\n",
      "*Issue with BPC12: Cannot save file into a non-existent directory: 'processed'\n",
      "\n",
      "*Issue with BPC13: Cannot save file into a non-existent directory: 'processed'\n",
      "\n",
      "*Issue with BPC14: Cannot save file into a non-existent directory: 'processed'\n",
      "\n",
      "*Issue with BPC15: Cannot save file into a non-existent directory: 'processed'\n",
      "\n",
      "*Issue with BPC16: Cannot save file into a non-existent directory: 'processed'\n",
      "\n"
     ]
    }
   ],
   "source": [
    "questions = [f\"BPC{i}\" for i in range(8,17)]\n",
    "\n",
    "for question in questions:\n",
    "     df = mc_processor.run_and_display(data,codebook,q_codebook,question,demo,suppress_output=False)\n",
    "     # print(question,mc_processor.get_question_text(q_codebook,question))\n",
    "     # display(df.map(lambda x: f\"{x:.1%}\"))"
   ]
  }
 ],
 "metadata": {
  "kernelspec": {
   "display_name": "Python 3",
   "language": "python",
   "name": "python3"
  },
  "language_info": {
   "codemirror_mode": {
    "name": "ipython",
    "version": 3
   },
   "file_extension": ".py",
   "mimetype": "text/x-python",
   "name": "python",
   "nbconvert_exporter": "python",
   "pygments_lexer": "ipython3",
   "version": "3.12.1"
  }
 },
 "nbformat": 4,
 "nbformat_minor": 2
}
